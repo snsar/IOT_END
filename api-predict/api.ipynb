{
 "cells": [
  {
   "cell_type": "code",
   "execution_count": 1,
   "id": "ef7ae60b",
   "metadata": {},
   "outputs": [
    {
     "name": "stdout",
     "output_type": "stream",
     "text": [
      "WARNING:tensorflow:From C:\\Users\\letho\\anaconda3\\Lib\\site-packages\\keras\\src\\losses.py:2976: The name tf.losses.sparse_softmax_cross_entropy is deprecated. Please use tf.compat.v1.losses.sparse_softmax_cross_entropy instead.\n",
      "\n",
      "WARNING:tensorflow:From C:\\Users\\letho\\anaconda3\\Lib\\site-packages\\keras\\src\\backend.py:873: The name tf.get_default_graph is deprecated. Please use tf.compat.v1.get_default_graph instead.\n",
      "\n",
      "WARNING:tensorflow:From C:\\Users\\letho\\anaconda3\\Lib\\site-packages\\keras\\src\\optimizers\\__init__.py:309: The name tf.train.Optimizer is deprecated. Please use tf.compat.v1.train.Optimizer instead.\n",
      "\n",
      "Epoch 1/100\n",
      "WARNING:tensorflow:From C:\\Users\\letho\\anaconda3\\Lib\\site-packages\\keras\\src\\utils\\tf_utils.py:492: The name tf.ragged.RaggedTensorValue is deprecated. Please use tf.compat.v1.ragged.RaggedTensorValue instead.\n",
      "\n",
      "WARNING:tensorflow:From C:\\Users\\letho\\anaconda3\\Lib\\site-packages\\keras\\src\\engine\\base_layer_utils.py:384: The name tf.executing_eagerly_outside_functions is deprecated. Please use tf.compat.v1.executing_eagerly_outside_functions instead.\n",
      "\n",
      "3/3 [==============================] - 1s 147ms/step - loss: 1.4767 - accuracy: 0.2500 - val_loss: 1.4386 - val_accuracy: 0.2000\n",
      "Epoch 2/100\n",
      "3/3 [==============================] - 0s 26ms/step - loss: 1.4239 - accuracy: 0.3125 - val_loss: 1.4202 - val_accuracy: 0.2500\n",
      "Epoch 3/100\n",
      "3/3 [==============================] - 0s 22ms/step - loss: 1.3827 - accuracy: 0.3000 - val_loss: 1.4086 - val_accuracy: 0.2000\n",
      "Epoch 4/100\n",
      "3/3 [==============================] - 0s 19ms/step - loss: 1.3462 - accuracy: 0.3625 - val_loss: 1.4035 - val_accuracy: 0.2000\n",
      "Epoch 5/100\n",
      "3/3 [==============================] - 0s 20ms/step - loss: 1.3131 - accuracy: 0.3625 - val_loss: 1.4014 - val_accuracy: 0.2000\n",
      "Epoch 6/100\n",
      "3/3 [==============================] - 0s 27ms/step - loss: 1.2824 - accuracy: 0.3875 - val_loss: 1.4004 - val_accuracy: 0.2000\n",
      "Epoch 7/100\n",
      "3/3 [==============================] - 0s 20ms/step - loss: 1.2557 - accuracy: 0.4500 - val_loss: 1.4002 - val_accuracy: 0.2000\n",
      "Epoch 8/100\n",
      "3/3 [==============================] - 0s 21ms/step - loss: 1.2328 - accuracy: 0.4750 - val_loss: 1.4008 - val_accuracy: 0.2000\n",
      "Epoch 9/100\n",
      "3/3 [==============================] - 0s 59ms/step - loss: 1.2094 - accuracy: 0.4750 - val_loss: 1.4040 - val_accuracy: 0.2000\n",
      "Epoch 10/100\n",
      "3/3 [==============================] - 0s 40ms/step - loss: 1.1892 - accuracy: 0.4875 - val_loss: 1.4070 - val_accuracy: 0.2000\n",
      "Epoch 11/100\n",
      "3/3 [==============================] - 0s 25ms/step - loss: 1.1683 - accuracy: 0.5250 - val_loss: 1.4110 - val_accuracy: 0.2000\n",
      "Epoch 12/100\n",
      "3/3 [==============================] - 0s 19ms/step - loss: 1.1491 - accuracy: 0.5625 - val_loss: 1.4154 - val_accuracy: 0.2000\n",
      "Epoch 13/100\n",
      "3/3 [==============================] - 0s 20ms/step - loss: 1.1299 - accuracy: 0.5875 - val_loss: 1.4208 - val_accuracy: 0.2000\n",
      "Epoch 14/100\n",
      "3/3 [==============================] - 0s 23ms/step - loss: 1.1113 - accuracy: 0.6000 - val_loss: 1.4259 - val_accuracy: 0.2000\n",
      "Epoch 15/100\n",
      "3/3 [==============================] - 0s 21ms/step - loss: 1.0944 - accuracy: 0.6250 - val_loss: 1.4319 - val_accuracy: 0.2000\n",
      "Epoch 16/100\n",
      "3/3 [==============================] - 0s 20ms/step - loss: 1.0758 - accuracy: 0.6500 - val_loss: 1.4395 - val_accuracy: 0.2000\n",
      "Epoch 17/100\n",
      "3/3 [==============================] - 0s 24ms/step - loss: 1.0598 - accuracy: 0.6625 - val_loss: 1.4473 - val_accuracy: 0.1500\n",
      "Epoch 18/100\n",
      "3/3 [==============================] - 0s 19ms/step - loss: 1.0431 - accuracy: 0.6500 - val_loss: 1.4555 - val_accuracy: 0.1500\n",
      "Epoch 19/100\n",
      "3/3 [==============================] - 0s 18ms/step - loss: 1.0274 - accuracy: 0.6750 - val_loss: 1.4632 - val_accuracy: 0.2000\n",
      "Epoch 20/100\n",
      "3/3 [==============================] - 0s 18ms/step - loss: 1.0112 - accuracy: 0.6625 - val_loss: 1.4700 - val_accuracy: 0.2000\n",
      "Epoch 21/100\n",
      "3/3 [==============================] - 0s 18ms/step - loss: 0.9959 - accuracy: 0.6750 - val_loss: 1.4788 - val_accuracy: 0.2500\n",
      "Epoch 22/100\n",
      "3/3 [==============================] - 0s 17ms/step - loss: 0.9808 - accuracy: 0.6750 - val_loss: 1.4849 - val_accuracy: 0.2500\n",
      "Epoch 23/100\n",
      "3/3 [==============================] - 0s 18ms/step - loss: 0.9652 - accuracy: 0.6875 - val_loss: 1.4906 - val_accuracy: 0.2500\n",
      "Epoch 24/100\n",
      "3/3 [==============================] - 0s 20ms/step - loss: 0.9497 - accuracy: 0.6875 - val_loss: 1.4968 - val_accuracy: 0.2500\n",
      "Epoch 25/100\n",
      "3/3 [==============================] - 0s 19ms/step - loss: 0.9358 - accuracy: 0.7250 - val_loss: 1.5032 - val_accuracy: 0.2500\n",
      "Epoch 26/100\n",
      "3/3 [==============================] - 0s 18ms/step - loss: 0.9213 - accuracy: 0.7375 - val_loss: 1.5100 - val_accuracy: 0.2500\n",
      "Epoch 27/100\n",
      "3/3 [==============================] - 0s 18ms/step - loss: 0.9063 - accuracy: 0.7500 - val_loss: 1.5177 - val_accuracy: 0.2500\n",
      "Epoch 28/100\n",
      "3/3 [==============================] - 0s 19ms/step - loss: 0.8934 - accuracy: 0.7500 - val_loss: 1.5265 - val_accuracy: 0.2000\n",
      "Epoch 29/100\n",
      "3/3 [==============================] - 0s 19ms/step - loss: 0.8798 - accuracy: 0.7625 - val_loss: 1.5353 - val_accuracy: 0.2000\n",
      "Epoch 30/100\n",
      "3/3 [==============================] - 0s 34ms/step - loss: 0.8655 - accuracy: 0.7625 - val_loss: 1.5440 - val_accuracy: 0.2000\n",
      "Epoch 31/100\n",
      "3/3 [==============================] - 0s 19ms/step - loss: 0.8525 - accuracy: 0.7875 - val_loss: 1.5530 - val_accuracy: 0.2000\n",
      "Epoch 32/100\n",
      "3/3 [==============================] - 0s 19ms/step - loss: 0.8391 - accuracy: 0.7875 - val_loss: 1.5624 - val_accuracy: 0.2000\n",
      "Epoch 33/100\n",
      "3/3 [==============================] - 0s 18ms/step - loss: 0.8248 - accuracy: 0.7875 - val_loss: 1.5712 - val_accuracy: 0.2000\n",
      "Epoch 34/100\n",
      "3/3 [==============================] - 0s 19ms/step - loss: 0.8123 - accuracy: 0.7875 - val_loss: 1.5819 - val_accuracy: 0.2000\n",
      "Epoch 35/100\n",
      "3/3 [==============================] - 0s 19ms/step - loss: 0.8000 - accuracy: 0.8000 - val_loss: 1.5921 - val_accuracy: 0.2000\n",
      "Epoch 36/100\n",
      "3/3 [==============================] - 0s 18ms/step - loss: 0.7869 - accuracy: 0.8000 - val_loss: 1.6038 - val_accuracy: 0.2000\n",
      "Epoch 37/100\n",
      "3/3 [==============================] - 0s 17ms/step - loss: 0.7739 - accuracy: 0.8000 - val_loss: 1.6165 - val_accuracy: 0.2000\n",
      "Epoch 38/100\n",
      "3/3 [==============================] - 0s 18ms/step - loss: 0.7611 - accuracy: 0.8250 - val_loss: 1.6293 - val_accuracy: 0.2000\n",
      "Epoch 39/100\n",
      "3/3 [==============================] - 0s 18ms/step - loss: 0.7485 - accuracy: 0.8250 - val_loss: 1.6414 - val_accuracy: 0.2000\n",
      "Epoch 40/100\n",
      "3/3 [==============================] - 0s 19ms/step - loss: 0.7380 - accuracy: 0.8250 - val_loss: 1.6540 - val_accuracy: 0.2000\n",
      "Epoch 41/100\n",
      "3/3 [==============================] - 0s 18ms/step - loss: 0.7252 - accuracy: 0.8250 - val_loss: 1.6661 - val_accuracy: 0.2000\n",
      "Epoch 42/100\n",
      "3/3 [==============================] - 0s 24ms/step - loss: 0.7135 - accuracy: 0.8250 - val_loss: 1.6776 - val_accuracy: 0.2000\n",
      "Epoch 43/100\n",
      "3/3 [==============================] - 0s 19ms/step - loss: 0.7034 - accuracy: 0.8250 - val_loss: 1.6904 - val_accuracy: 0.2000\n",
      "Epoch 44/100\n",
      "3/3 [==============================] - 0s 19ms/step - loss: 0.6910 - accuracy: 0.8250 - val_loss: 1.7016 - val_accuracy: 0.2000\n",
      "Epoch 45/100\n",
      "3/3 [==============================] - 0s 25ms/step - loss: 0.6793 - accuracy: 0.8375 - val_loss: 1.7132 - val_accuracy: 0.2000\n",
      "Epoch 46/100\n",
      "3/3 [==============================] - 0s 19ms/step - loss: 0.6673 - accuracy: 0.8375 - val_loss: 1.7236 - val_accuracy: 0.2000\n",
      "Epoch 47/100\n",
      "3/3 [==============================] - 0s 22ms/step - loss: 0.6566 - accuracy: 0.8375 - val_loss: 1.7350 - val_accuracy: 0.2000\n",
      "Epoch 48/100\n",
      "3/3 [==============================] - 0s 21ms/step - loss: 0.6453 - accuracy: 0.8500 - val_loss: 1.7483 - val_accuracy: 0.2000\n",
      "Epoch 49/100\n",
      "3/3 [==============================] - 0s 23ms/step - loss: 0.6343 - accuracy: 0.8500 - val_loss: 1.7616 - val_accuracy: 0.2000\n",
      "Epoch 50/100\n",
      "3/3 [==============================] - 0s 31ms/step - loss: 0.6224 - accuracy: 0.8500 - val_loss: 1.7743 - val_accuracy: 0.2000\n",
      "Epoch 51/100\n"
     ]
    },
    {
     "name": "stdout",
     "output_type": "stream",
     "text": [
      "3/3 [==============================] - 0s 20ms/step - loss: 0.6115 - accuracy: 0.8500 - val_loss: 1.7884 - val_accuracy: 0.2000\n",
      "Epoch 52/100\n",
      "3/3 [==============================] - 0s 21ms/step - loss: 0.6007 - accuracy: 0.8500 - val_loss: 1.8049 - val_accuracy: 0.2000\n",
      "Epoch 53/100\n",
      "3/3 [==============================] - 0s 19ms/step - loss: 0.5898 - accuracy: 0.8625 - val_loss: 1.8206 - val_accuracy: 0.2000\n",
      "Epoch 54/100\n",
      "3/3 [==============================] - 0s 19ms/step - loss: 0.5782 - accuracy: 0.8625 - val_loss: 1.8357 - val_accuracy: 0.2000\n",
      "Epoch 55/100\n",
      "3/3 [==============================] - 0s 18ms/step - loss: 0.5678 - accuracy: 0.8750 - val_loss: 1.8548 - val_accuracy: 0.2000\n",
      "Epoch 56/100\n",
      "3/3 [==============================] - 0s 18ms/step - loss: 0.5566 - accuracy: 0.8875 - val_loss: 1.8670 - val_accuracy: 0.2000\n",
      "Epoch 57/100\n",
      "3/3 [==============================] - 0s 18ms/step - loss: 0.5467 - accuracy: 0.8750 - val_loss: 1.8811 - val_accuracy: 0.2000\n",
      "Epoch 58/100\n",
      "3/3 [==============================] - 0s 18ms/step - loss: 0.5357 - accuracy: 0.8875 - val_loss: 1.8948 - val_accuracy: 0.2000\n",
      "Epoch 59/100\n",
      "3/3 [==============================] - 0s 20ms/step - loss: 0.5257 - accuracy: 0.8875 - val_loss: 1.9097 - val_accuracy: 0.2000\n",
      "Epoch 60/100\n",
      "3/3 [==============================] - 0s 19ms/step - loss: 0.5159 - accuracy: 0.9000 - val_loss: 1.9261 - val_accuracy: 0.2000\n",
      "Epoch 61/100\n",
      "3/3 [==============================] - 0s 19ms/step - loss: 0.5062 - accuracy: 0.9000 - val_loss: 1.9424 - val_accuracy: 0.2000\n",
      "Epoch 62/100\n",
      "3/3 [==============================] - 0s 20ms/step - loss: 0.4964 - accuracy: 0.9000 - val_loss: 1.9575 - val_accuracy: 0.2000\n",
      "Epoch 63/100\n",
      "3/3 [==============================] - 0s 19ms/step - loss: 0.4867 - accuracy: 0.9000 - val_loss: 1.9727 - val_accuracy: 0.2000\n",
      "Epoch 64/100\n",
      "3/3 [==============================] - 0s 19ms/step - loss: 0.4780 - accuracy: 0.9000 - val_loss: 1.9869 - val_accuracy: 0.2000\n",
      "Epoch 65/100\n",
      "3/3 [==============================] - 0s 19ms/step - loss: 0.4698 - accuracy: 0.9000 - val_loss: 2.0034 - val_accuracy: 0.2000\n",
      "Epoch 66/100\n",
      "3/3 [==============================] - 0s 20ms/step - loss: 0.4610 - accuracy: 0.9125 - val_loss: 2.0153 - val_accuracy: 0.2000\n",
      "Epoch 67/100\n",
      "3/3 [==============================] - 0s 22ms/step - loss: 0.4513 - accuracy: 0.9125 - val_loss: 2.0270 - val_accuracy: 0.2000\n",
      "Epoch 68/100\n",
      "3/3 [==============================] - 0s 22ms/step - loss: 0.4425 - accuracy: 0.9250 - val_loss: 2.0394 - val_accuracy: 0.2500\n",
      "Epoch 69/100\n",
      "3/3 [==============================] - 0s 21ms/step - loss: 0.4342 - accuracy: 0.9250 - val_loss: 2.0541 - val_accuracy: 0.2500\n",
      "Epoch 70/100\n",
      "3/3 [==============================] - 0s 19ms/step - loss: 0.4260 - accuracy: 0.9375 - val_loss: 2.0670 - val_accuracy: 0.2500\n",
      "Epoch 71/100\n",
      "3/3 [==============================] - 0s 22ms/step - loss: 0.4173 - accuracy: 0.9250 - val_loss: 2.0815 - val_accuracy: 0.2500\n",
      "Epoch 72/100\n",
      "3/3 [==============================] - 0s 29ms/step - loss: 0.4094 - accuracy: 0.9375 - val_loss: 2.0971 - val_accuracy: 0.2500\n",
      "Epoch 73/100\n",
      "3/3 [==============================] - 0s 26ms/step - loss: 0.4013 - accuracy: 0.9375 - val_loss: 2.1112 - val_accuracy: 0.2500\n",
      "Epoch 74/100\n",
      "3/3 [==============================] - 0s 23ms/step - loss: 0.3939 - accuracy: 0.9375 - val_loss: 2.1280 - val_accuracy: 0.2500\n",
      "Epoch 75/100\n",
      "3/3 [==============================] - 0s 27ms/step - loss: 0.3859 - accuracy: 0.9375 - val_loss: 2.1421 - val_accuracy: 0.2500\n",
      "Epoch 76/100\n",
      "3/3 [==============================] - 0s 20ms/step - loss: 0.3788 - accuracy: 0.9375 - val_loss: 2.1551 - val_accuracy: 0.2500\n",
      "Epoch 77/100\n",
      "3/3 [==============================] - 0s 17ms/step - loss: 0.3708 - accuracy: 0.9375 - val_loss: 2.1701 - val_accuracy: 0.2500\n",
      "Epoch 78/100\n",
      "3/3 [==============================] - 0s 17ms/step - loss: 0.3640 - accuracy: 0.9500 - val_loss: 2.1862 - val_accuracy: 0.2500\n",
      "Epoch 79/100\n",
      "3/3 [==============================] - 0s 17ms/step - loss: 0.3568 - accuracy: 0.9500 - val_loss: 2.2016 - val_accuracy: 0.2500\n",
      "Epoch 80/100\n",
      "3/3 [==============================] - 0s 17ms/step - loss: 0.3497 - accuracy: 0.9625 - val_loss: 2.2168 - val_accuracy: 0.2500\n",
      "Epoch 81/100\n",
      "3/3 [==============================] - 0s 17ms/step - loss: 0.3431 - accuracy: 0.9625 - val_loss: 2.2329 - val_accuracy: 0.2500\n",
      "Epoch 82/100\n",
      "3/3 [==============================] - 0s 26ms/step - loss: 0.3363 - accuracy: 0.9625 - val_loss: 2.2475 - val_accuracy: 0.2500\n",
      "Epoch 83/100\n",
      "3/3 [==============================] - 0s 24ms/step - loss: 0.3296 - accuracy: 0.9625 - val_loss: 2.2610 - val_accuracy: 0.2500\n",
      "Epoch 84/100\n",
      "3/3 [==============================] - 0s 20ms/step - loss: 0.3232 - accuracy: 0.9625 - val_loss: 2.2742 - val_accuracy: 0.2500\n",
      "Epoch 85/100\n",
      "3/3 [==============================] - 0s 19ms/step - loss: 0.3169 - accuracy: 0.9625 - val_loss: 2.2876 - val_accuracy: 0.2500\n",
      "Epoch 86/100\n",
      "3/3 [==============================] - 0s 20ms/step - loss: 0.3113 - accuracy: 0.9750 - val_loss: 2.2994 - val_accuracy: 0.2500\n",
      "Epoch 87/100\n",
      "3/3 [==============================] - 0s 19ms/step - loss: 0.3040 - accuracy: 0.9750 - val_loss: 2.3110 - val_accuracy: 0.2500\n",
      "Epoch 88/100\n",
      "3/3 [==============================] - 0s 23ms/step - loss: 0.2979 - accuracy: 0.9750 - val_loss: 2.3212 - val_accuracy: 0.2500\n",
      "Epoch 89/100\n",
      "3/3 [==============================] - 0s 20ms/step - loss: 0.2922 - accuracy: 0.9750 - val_loss: 2.3341 - val_accuracy: 0.2500\n",
      "Epoch 90/100\n",
      "3/3 [==============================] - 0s 16ms/step - loss: 0.2867 - accuracy: 0.9750 - val_loss: 2.3488 - val_accuracy: 0.2500\n",
      "Epoch 91/100\n",
      "3/3 [==============================] - 0s 18ms/step - loss: 0.2804 - accuracy: 0.9750 - val_loss: 2.3660 - val_accuracy: 0.2500\n",
      "Epoch 92/100\n",
      "3/3 [==============================] - 0s 18ms/step - loss: 0.2748 - accuracy: 0.9750 - val_loss: 2.3850 - val_accuracy: 0.2500\n",
      "Epoch 93/100\n",
      "3/3 [==============================] - 0s 20ms/step - loss: 0.2690 - accuracy: 0.9750 - val_loss: 2.4027 - val_accuracy: 0.2500\n",
      "Epoch 94/100\n",
      "3/3 [==============================] - 0s 19ms/step - loss: 0.2640 - accuracy: 0.9750 - val_loss: 2.4201 - val_accuracy: 0.2500\n",
      "Epoch 95/100\n",
      "3/3 [==============================] - 0s 17ms/step - loss: 0.2589 - accuracy: 0.9750 - val_loss: 2.4361 - val_accuracy: 0.2500\n",
      "Epoch 96/100\n",
      "3/3 [==============================] - 0s 22ms/step - loss: 0.2537 - accuracy: 0.9750 - val_loss: 2.4514 - val_accuracy: 0.2500\n",
      "Epoch 97/100\n",
      "3/3 [==============================] - 0s 19ms/step - loss: 0.2490 - accuracy: 0.9750 - val_loss: 2.4649 - val_accuracy: 0.2500\n",
      "Epoch 98/100\n",
      "3/3 [==============================] - 0s 19ms/step - loss: 0.2440 - accuracy: 0.9750 - val_loss: 2.4789 - val_accuracy: 0.2500\n",
      "Epoch 99/100\n",
      "3/3 [==============================] - 0s 19ms/step - loss: 0.2392 - accuracy: 0.9750 - val_loss: 2.4945 - val_accuracy: 0.2500\n",
      "Epoch 100/100\n",
      "3/3 [==============================] - 0s 20ms/step - loss: 0.2346 - accuracy: 0.9750 - val_loss: 2.5113 - val_accuracy: 0.2500\n",
      "1/1 [==============================] - 0s 88ms/step\n",
      "Accuracy: 0.25\n",
      "Confusion Matrix:\n",
      "[[2 1 0 1]\n",
      " [2 1 3 0]\n",
      " [1 3 0 1]\n",
      " [0 1 2 2]]\n",
      "Classification Report:\n",
      "              precision    recall  f1-score   support\n",
      "\n",
      "           0       0.40      0.50      0.44         4\n",
      "           1       0.17      0.17      0.17         6\n",
      "           2       0.00      0.00      0.00         5\n",
      "           3       0.50      0.40      0.44         5\n",
      "\n",
      "    accuracy                           0.25        20\n",
      "   macro avg       0.27      0.27      0.26        20\n",
      "weighted avg       0.26      0.25      0.25        20\n",
      "\n",
      "1/1 [==============================] - 0s 26ms/step\n",
      "Predicted Health Status: heart pain\n"
     ]
    }
   ],
   "source": [
    "import pandas as pd\n",
    "import numpy as np\n",
    "from sklearn.model_selection import train_test_split\n",
    "from sklearn.preprocessing import StandardScaler, LabelEncoder\n",
    "from sklearn.metrics import accuracy_score, classification_report, confusion_matrix\n",
    "from keras.models import Sequential\n",
    "from keras.layers import Dense\n",
    "from keras.utils import to_categorical\n",
    "import pickle\n",
    "\n",
    "# Đọc dữ liệu từ dataset\n",
    "data = pd.read_csv('health_data.csv')\n",
    "\n",
    "# Chia dữ liệu thành features và labels\n",
    "X = data.iloc[:, :-1].values  # Features\n",
    "y = data['health_status'].values  # Labels\n",
    "\n",
    "# Chuẩn hóa dữ liệu\n",
    "scaler = StandardScaler()\n",
    "X = scaler.fit_transform(X)\n",
    "\n",
    "# Chuyển đổi nhãn về dạng số\n",
    "label_encoder = LabelEncoder()\n",
    "y = label_encoder.fit_transform(y)\n",
    "\n",
    "# Chia dữ liệu thành tập huấn luyện và tập kiểm tra\n",
    "X_train, X_test, y_train, y_test = train_test_split(X, y, test_size=0.2, random_state=42)\n",
    "\n",
    "# Chuyển đổi nhãn thành dạng one-hot encoding\n",
    "num_classes = len(np.unique(y))\n",
    "y_train = to_categorical(y_train, num_classes=num_classes)\n",
    "y_test = to_categorical(y_test, num_classes=num_classes)\n",
    "\n",
    "# Xây dựng mô hình Neural Network\n",
    "model = Sequential()\n",
    "model.add(Dense(64, input_dim=X_train.shape[1], activation='relu'))\n",
    "model.add(Dense(32, activation='relu'))\n",
    "model.add(Dense(num_classes, activation='softmax'))\n",
    "\n",
    "# Biên dịch mô hình\n",
    "model.compile(loss='categorical_crossentropy', optimizer='adam', metrics=['accuracy'])\n",
    "\n",
    "# Huấn luyện mô hình\n",
    "model.fit(X_train, y_train, epochs=100, batch_size=32, validation_data=(X_test, y_test))\n",
    "\n",
    "\n",
    "# Save the model structure and weights\n",
    "model_file = 'model.pkl'\n",
    "pickle.dump(model, open(model_file, 'wb'))\n",
    "\n",
    "# Save the scaler object for preprocessing\n",
    "scaler_file = 'scaler.pkl'\n",
    "pickle.dump(scaler, open(scaler_file, 'wb'))\n",
    "\n",
    "# Save the label encoder object for decoding predictions\n",
    "encoder_file = 'label_encoder.pkl'\n",
    "pickle.dump(label_encoder, open(encoder_file, 'wb'))\n",
    "\n",
    "\n",
    "\n",
    "# Đánh giá mô hình trên tập kiểm tra\n",
    "y_pred = model.predict(X_test)\n",
    "y_pred_classes = np.argmax(y_pred, axis=1)\n",
    "y_test_classes = np.argmax(y_test, axis=1)\n",
    "\n",
    "# Đánh giá mô hình\n",
    "accuracy = accuracy_score(y_test_classes, y_pred_classes)\n",
    "conf_matrix = confusion_matrix(y_test_classes, y_pred_classes)\n",
    "class_report = classification_report(y_test_classes, y_pred_classes)\n",
    "\n",
    "# In kết quả\n",
    "print(f'Accuracy: {accuracy}')\n",
    "print(f'Confusion Matrix:\\n{conf_matrix}')\n",
    "print(f'Classification Report:\\n{class_report}')\n",
    "\n",
    "\n",
    "# Dự đoán trạng thái sức khỏe trên dữ liệu mới\n",
    "new_data = np.array([[30, 85, 94, 38.0, 11, 92, 39.8, 88, 90]])  # Thay thế bằng dữ liệu mới của bạn\n",
    "new_data = scaler.transform(new_data)\n",
    "\n",
    "# Dự đoán\n",
    "predicted_probabilities = model.predict(new_data)\n",
    "predicted_class_index = np.argmax(predicted_probabilities)\n",
    "predicted_class = label_encoder.classes_[predicted_class_index]\n",
    "\n",
    "# In kết quả\n",
    "print(f'Predicted Health Status: {predicted_class}')"
   ]
  },
  {
   "cell_type": "code",
   "execution_count": null,
   "id": "b704695b",
   "metadata": {},
   "outputs": [
    {
     "name": "stdout",
     "output_type": "stream",
     "text": [
      " * Serving Flask app '__main__'\n",
      " * Debug mode: off\n"
     ]
    },
    {
     "name": "stderr",
     "output_type": "stream",
     "text": [
      "WARNING: This is a development server. Do not use it in a production deployment. Use a production WSGI server instead.\n",
      " * Running on all addresses (0.0.0.0)\n",
      " * Running on http://127.0.0.1:5000\n",
      " * Running on http://192.168.8.101:5000\n",
      "Press CTRL+C to quit\n"
     ]
    },
    {
     "name": "stdout",
     "output_type": "stream",
     "text": [
      "1/1 [==============================] - 0s 61ms/step\n"
     ]
    },
    {
     "name": "stderr",
     "output_type": "stream",
     "text": [
      "127.0.0.1 - - [24/Dec/2023 00:15:39] \"POST /predict HTTP/1.1\" 200 -\n"
     ]
    },
    {
     "name": "stdout",
     "output_type": "stream",
     "text": [
      "1/1 [==============================] - 0s 127ms/step\n"
     ]
    },
    {
     "name": "stderr",
     "output_type": "stream",
     "text": [
      "127.0.0.1 - - [24/Dec/2023 00:19:24] \"POST /predict HTTP/1.1\" 200 -\n"
     ]
    },
    {
     "name": "stdout",
     "output_type": "stream",
     "text": [
      "1/1 [==============================] - 0s 53ms/step\n"
     ]
    },
    {
     "name": "stderr",
     "output_type": "stream",
     "text": [
      "127.0.0.1 - - [24/Dec/2023 00:20:51] \"POST /predict HTTP/1.1\" 200 -\n"
     ]
    },
    {
     "name": "stdout",
     "output_type": "stream",
     "text": [
      "1/1 [==============================] - 0s 99ms/step\n"
     ]
    },
    {
     "name": "stderr",
     "output_type": "stream",
     "text": [
      "127.0.0.1 - - [24/Dec/2023 00:21:55] \"POST /predict HTTP/1.1\" 200 -\n"
     ]
    },
    {
     "name": "stdout",
     "output_type": "stream",
     "text": [
      "1/1 [==============================] - 0s 155ms/step\n"
     ]
    },
    {
     "name": "stderr",
     "output_type": "stream",
     "text": [
      "127.0.0.1 - - [24/Dec/2023 00:24:12] \"POST /predict HTTP/1.1\" 200 -\n"
     ]
    },
    {
     "name": "stdout",
     "output_type": "stream",
     "text": [
      "1/1 [==============================] - 0s 37ms/step\n"
     ]
    },
    {
     "name": "stderr",
     "output_type": "stream",
     "text": [
      "127.0.0.1 - - [24/Dec/2023 00:24:29] \"POST /predict HTTP/1.1\" 200 -\n"
     ]
    },
    {
     "name": "stdout",
     "output_type": "stream",
     "text": [
      "1/1 [==============================] - 0s 41ms/step\n"
     ]
    },
    {
     "name": "stderr",
     "output_type": "stream",
     "text": [
      "127.0.0.1 - - [24/Dec/2023 00:24:43] \"POST /predict HTTP/1.1\" 200 -\n"
     ]
    },
    {
     "name": "stdout",
     "output_type": "stream",
     "text": [
      "1/1 [==============================] - 0s 34ms/step\n"
     ]
    },
    {
     "name": "stderr",
     "output_type": "stream",
     "text": [
      "127.0.0.1 - - [24/Dec/2023 00:25:52] \"POST /predict HTTP/1.1\" 200 -\n"
     ]
    },
    {
     "name": "stdout",
     "output_type": "stream",
     "text": [
      "1/1 [==============================] - 0s 38ms/step\n"
     ]
    },
    {
     "name": "stderr",
     "output_type": "stream",
     "text": [
      "127.0.0.1 - - [24/Dec/2023 00:26:09] \"POST /predict HTTP/1.1\" 200 -\n"
     ]
    },
    {
     "name": "stdout",
     "output_type": "stream",
     "text": [
      "1/1 [==============================] - 0s 150ms/step\n"
     ]
    },
    {
     "name": "stderr",
     "output_type": "stream",
     "text": [
      "127.0.0.1 - - [24/Dec/2023 00:30:06] \"POST /predict HTTP/1.1\" 200 -\n"
     ]
    },
    {
     "name": "stdout",
     "output_type": "stream",
     "text": [
      "1/1 [==============================] - 0s 46ms/step\n"
     ]
    },
    {
     "name": "stderr",
     "output_type": "stream",
     "text": [
      "127.0.0.1 - - [24/Dec/2023 00:30:43] \"POST /predict HTTP/1.1\" 200 -\n"
     ]
    },
    {
     "name": "stdout",
     "output_type": "stream",
     "text": [
      "1/1 [==============================] - 0s 215ms/step\n"
     ]
    },
    {
     "name": "stderr",
     "output_type": "stream",
     "text": [
      "127.0.0.1 - - [24/Dec/2023 00:40:41] \"POST /predict HTTP/1.1\" 200 -\n"
     ]
    },
    {
     "name": "stdout",
     "output_type": "stream",
     "text": [
      "1/1 [==============================] - 0s 158ms/step\n"
     ]
    },
    {
     "name": "stderr",
     "output_type": "stream",
     "text": [
      "127.0.0.1 - - [24/Dec/2023 00:45:48] \"POST /predict HTTP/1.1\" 200 -\n"
     ]
    },
    {
     "name": "stdout",
     "output_type": "stream",
     "text": [
      "1/1 [==============================] - 0s 43ms/step\n"
     ]
    },
    {
     "name": "stderr",
     "output_type": "stream",
     "text": [
      "127.0.0.1 - - [24/Dec/2023 00:45:52] \"POST /predict HTTP/1.1\" 200 -\n"
     ]
    },
    {
     "name": "stdout",
     "output_type": "stream",
     "text": [
      "1/1 [==============================] - 0s 41ms/step\n"
     ]
    },
    {
     "name": "stderr",
     "output_type": "stream",
     "text": [
      "127.0.0.1 - - [24/Dec/2023 00:45:55] \"POST /predict HTTP/1.1\" 200 -\n"
     ]
    },
    {
     "name": "stdout",
     "output_type": "stream",
     "text": [
      "1/1 [==============================] - 0s 35ms/step\n"
     ]
    },
    {
     "name": "stderr",
     "output_type": "stream",
     "text": [
      "127.0.0.1 - - [24/Dec/2023 00:45:58] \"POST /predict HTTP/1.1\" 200 -\n"
     ]
    },
    {
     "name": "stdout",
     "output_type": "stream",
     "text": [
      "1/1 [==============================] - 0s 37ms/step\n"
     ]
    },
    {
     "name": "stderr",
     "output_type": "stream",
     "text": [
      "127.0.0.1 - - [24/Dec/2023 00:45:58] \"POST /predict HTTP/1.1\" 200 -\n"
     ]
    },
    {
     "name": "stdout",
     "output_type": "stream",
     "text": [
      "1/1 [==============================] - 0s 34ms/step\n"
     ]
    },
    {
     "name": "stderr",
     "output_type": "stream",
     "text": [
      "127.0.0.1 - - [24/Dec/2023 00:45:58] \"POST /predict HTTP/1.1\" 200 -\n"
     ]
    },
    {
     "name": "stdout",
     "output_type": "stream",
     "text": [
      "1/1 [==============================] - 0s 37ms/step\n"
     ]
    },
    {
     "name": "stderr",
     "output_type": "stream",
     "text": [
      "127.0.0.1 - - [24/Dec/2023 00:45:59] \"POST /predict HTTP/1.1\" 200 -\n"
     ]
    },
    {
     "name": "stdout",
     "output_type": "stream",
     "text": [
      "1/1 [==============================] - 0s 202ms/step\n"
     ]
    },
    {
     "name": "stderr",
     "output_type": "stream",
     "text": [
      "127.0.0.1 - - [24/Dec/2023 00:48:26] \"POST /predict HTTP/1.1\" 200 -\n"
     ]
    },
    {
     "name": "stdout",
     "output_type": "stream",
     "text": [
      "1/1 [==============================] - 0s 36ms/step\n"
     ]
    },
    {
     "name": "stderr",
     "output_type": "stream",
     "text": [
      "127.0.0.1 - - [24/Dec/2023 00:49:09] \"POST /predict HTTP/1.1\" 200 -\n"
     ]
    },
    {
     "name": "stdout",
     "output_type": "stream",
     "text": [
      "1/1 [==============================] - 0s 37ms/step\n"
     ]
    },
    {
     "name": "stderr",
     "output_type": "stream",
     "text": [
      "127.0.0.1 - - [24/Dec/2023 00:49:12] \"POST /predict HTTP/1.1\" 200 -\n"
     ]
    },
    {
     "name": "stdout",
     "output_type": "stream",
     "text": [
      "1/1 [==============================] - 0s 36ms/step\n"
     ]
    },
    {
     "name": "stderr",
     "output_type": "stream",
     "text": [
      "127.0.0.1 - - [24/Dec/2023 00:49:25] \"POST /predict HTTP/1.1\" 200 -\n"
     ]
    },
    {
     "name": "stdout",
     "output_type": "stream",
     "text": [
      "1/1 [==============================] - 0s 93ms/step\n"
     ]
    },
    {
     "name": "stderr",
     "output_type": "stream",
     "text": [
      "127.0.0.1 - - [24/Dec/2023 00:52:18] \"POST /predict HTTP/1.1\" 200 -\n"
     ]
    },
    {
     "name": "stdout",
     "output_type": "stream",
     "text": [
      "1/1 [==============================] - 0s 36ms/step\n"
     ]
    },
    {
     "name": "stderr",
     "output_type": "stream",
     "text": [
      "127.0.0.1 - - [24/Dec/2023 00:52:48] \"POST /predict HTTP/1.1\" 200 -\n"
     ]
    }
   ],
   "source": [
    "from flask import Flask, request, jsonify\n",
    "import pandas as pd\n",
    "import numpy as np\n",
    "from sklearn.model_selection import train_test_split\n",
    "from sklearn.preprocessing import StandardScaler, LabelEncoder\n",
    "from sklearn.metrics import accuracy_score, classification_report, confusion_matrix\n",
    "from keras.models import Sequential\n",
    "from keras.layers import Dense\n",
    "from keras.utils import to_categorical\n",
    "import pickle\n",
    "\n",
    "\n",
    "app = Flask(__name__)\n",
    "\n",
    "model = pickle.load(open('model.pkl', 'rb'))\n",
    "scaler = pickle.load(open('scaler.pkl', 'rb'))\n",
    "label_encoder = pickle.load(open('label_encoder.pkl', 'rb'))\n",
    "\n",
    "@app.route('/predict', methods=['POST'])\n",
    "def predict():\n",
    "    new_data = request.get_json()  # Nhận dữ liệu mới từ request\n",
    "    new_data = np.array(new_data['data'])  # Chuyển đổi sang mảng numpy\n",
    "\n",
    "    if scaler:\n",
    "        new_data = scaler.transform(new_data)  # Chuẩn hóa dữ liệu nếu có\n",
    "\n",
    "    predicted_probabilities = model.predict(new_data)\n",
    "    predicted_class_index = np.argmax(predicted_probabilities)\n",
    "    predicted_class = label_encoder.classes_[predicted_class_index]  # Chuyển đổi nhãn nếu có\n",
    "\n",
    "    return jsonify({'predicted_class': predicted_class})\n",
    "\n",
    "if __name__ == '__main__':\n",
    "    app.run(host='0.0.0.0', port=5000)  # Chạy trên server mặc định"
   ]
  },
  {
   "cell_type": "code",
   "execution_count": null,
   "id": "c3c18050",
   "metadata": {},
   "outputs": [],
   "source": []
  },
  {
   "cell_type": "code",
   "execution_count": null,
   "id": "4199b2a3",
   "metadata": {},
   "outputs": [],
   "source": []
  }
 ],
 "metadata": {
  "kernelspec": {
   "display_name": "Python 3 (ipykernel)",
   "language": "python",
   "name": "python3"
  },
  "language_info": {
   "codemirror_mode": {
    "name": "ipython",
    "version": 3
   },
   "file_extension": ".py",
   "mimetype": "text/x-python",
   "name": "python",
   "nbconvert_exporter": "python",
   "pygments_lexer": "ipython3",
   "version": "3.11.4"
  }
 },
 "nbformat": 4,
 "nbformat_minor": 5
}
